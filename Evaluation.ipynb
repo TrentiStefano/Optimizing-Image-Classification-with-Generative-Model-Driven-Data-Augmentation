{
 "cells": [
  {
   "cell_type": "code",
   "execution_count": null,
   "metadata": {},
   "outputs": [],
   "source": [
    "import os\n",
    "import numpy as np\n",
    "import matplotlib.pyplot as plt\n",
    "from PIL import Image\n",
    "import cv2\n",
    "import torch\n",
    "import torch.nn as nn\n",
    "import torch.optim as optim\n",
    "import torch.nn.functional as F\n",
    "from torch.utils.data import DataLoader, Dataset, TensorDataset, ConcatDataset\n",
    "from torchvision import transforms, datasets\n",
    "import torchvision.utils as vutils\n",
    "from torchmetrics import Metric\n",
    "from torchmetrics.image.fid import FrechetInceptionDistance\n",
    "from torchmetrics.image import InceptionScore\n",
    "from skimage.metrics import structural_similarity as ssim\n",
    "from scipy.ndimage import gaussian_filter\n",
    "\n",
    "device = torch.device('cpu')#torch.device('cuda' if torch.cuda.is_available() else 'cpu')"
   ]
  },
  {
   "cell_type": "code",
   "execution_count": null,
   "metadata": {},
   "outputs": [],
   "source": [
    "# Configurations\n",
    "batch_size = 8\n",
    "image_size = (299, 299)\n",
    "\n",
    "# Define a custom transformation for Gaussian blur\n",
    "class GaussianBlur(object):\n",
    "    def __init__(self, sigma=1):\n",
    "        self.sigma = sigma\n",
    "\n",
    "    def __call__(self, image):\n",
    "        # Convert PIL Image to numpy array\n",
    "        image_np = np.array(image)\n",
    "        # Apply Gaussian blur\n",
    "        blurred_image_np = gaussian_filter(image_np, sigma=self.sigma)\n",
    "        # Convert numpy array back to PIL Image\n",
    "        blurred_image = transforms.ToPILImage()(blurred_image_np)\n",
    "        return blurred_image\n",
    "    \n",
    "\n",
    "# Transformations to resize and normalize images\n",
    "transform_real = transforms.Compose([\n",
    "    transforms.Resize(image_size),\n",
    "    transforms.ToTensor(),\n",
    "    transforms.Normalize([0.485, 0.456, 0.406], [0.229, 0.224, 0.225])\n",
    "])\n",
    "\n",
    "transform_gen = transforms.Compose([\n",
    "    transforms.Resize(image_size),\n",
    "    #GaussianBlur(sigma=1),\n",
    "    transforms.ToTensor(),\n",
    "    transforms.Normalize([0.485, 0.456, 0.406], [0.229, 0.224, 0.225])\n",
    "])"
   ]
  },
  {
   "cell_type": "code",
   "execution_count": null,
   "metadata": {},
   "outputs": [],
   "source": [
    "def filter_dataloader_by_class(dataloader, target_idx):\n",
    "\n",
    "    filtered_images = []\n",
    "    for images, labels in dataloader:\n",
    "        mask = labels == target_idx\n",
    "        filtered_images.append(images[mask])\n",
    "    filtered_images = torch.cat(filtered_images)\n",
    "    filtered_labels = torch.full((len(filtered_images),), target_idx, dtype=torch.long)\n",
    "\n",
    "    return DataLoader(TensorDataset(filtered_images, filtered_labels), batch_size=batch_size, shuffle=True)"
   ]
  },
  {
   "cell_type": "code",
   "execution_count": null,
   "metadata": {},
   "outputs": [],
   "source": [
    "# Função para converter imagens de float para uint8\n",
    "def convert_to_uint8(images):\n",
    "    images = (images * 255).byte()\n",
    "    return images"
   ]
  },
  {
   "cell_type": "markdown",
   "metadata": {},
   "source": [
    "#Paths"
   ]
  },
  {
   "cell_type": "code",
   "execution_count": null,
   "metadata": {},
   "outputs": [],
   "source": [
    "real_images_dir = 'data-students/TRAIN' #C:/Users/Nicoli Leal/Desktop/project2/TRAIN'\n",
    "\n",
    "generated_images_dir = 'GEN_DATASETS/DCGAN_50'\n",
    "#generated_images_dir = 'GEN_DATASETS/DCGAN_100'\n",
    "#generated_images_dir = 'GEN_DATASETS/DCGAN_500'\n",
    "\n",
    "#generated_images_dir = 'GEN_DATASETS/DDPM_50'\n",
    "#generated_images_dir = 'GEN_DATASETS/DDPM_100'\n",
    "#generated_images_dir = 'GEN_DATASETS/DDPM_500'\n",
    "\n",
    "#generated_images_dir = 'GEN_DATASETS/VAE_50'\n",
    "#generated_images_dir = 'GEN_DATASETS/VAE_100'\n",
    "#generated_images_dir = 'GEN_DATASETS/VAE_500'"
   ]
  },
  {
   "cell_type": "markdown",
   "metadata": {},
   "source": [
    "#Load images"
   ]
  },
  {
   "cell_type": "code",
   "execution_count": 8,
   "metadata": {},
   "outputs": [],
   "source": [
    "# Load dataset of real images\n",
    "real_dataset = datasets.ImageFolder(real_images_dir, transform=transform_real)\n",
    "real_dataloader = DataLoader(real_dataset, batch_size=batch_size, shuffle=False, drop_last = True)\n",
    "classes = real_dataset.classes\n",
    "num_classes = len(classes)\n",
    "\n",
    "# Load dataset of generated images\n",
    "generated_dataset = datasets.ImageFolder(generated_images_dir, transform=transform_gen)\n",
    "generated_dataloader = DataLoader(generated_dataset, batch_size=batch_size, shuffle=False, drop_last = True)"
   ]
  },
  {
   "cell_type": "markdown",
   "metadata": {},
   "source": [
    "# Plot"
   ]
  },
  {
   "cell_type": "code",
   "execution_count": null,
   "metadata": {},
   "outputs": [],
   "source": [
    "def plot_real_and_generated_images_by_class(real_dataloader, generated_dataloader, device, num_classes=10):\n",
    "    \n",
    "    for i in range(num_classes):\n",
    "        filtered_dataloader_gen = filter_dataloader_by_class(generated_dataloader, i)\n",
    "        filtered_dataloader_real = filter_dataloader_by_class(real_dataloader, i)\n",
    "\n",
    "        # Obtém lotes de imagens reais e geradas\n",
    "        real_batch = next(iter(filtered_dataloader_real))\n",
    "        generated_batch = next(iter(filtered_dataloader_gen))\n",
    "\n",
    "        # Cria a figura\n",
    "        plt.figure(figsize=(8, 8))\n",
    "\n",
    "        # Plot da imagem real\n",
    "        plt.subplot(1, 5, 1)\n",
    "        plt.axis(\"off\")\n",
    "        plt.title(\"Real Image\")\n",
    "        real_image = real_batch[0][0].to(device)  # Pega a primeira imagem do lote\n",
    "        plt.imshow(np.transpose(vutils.make_grid(real_image, padding=2, normalize=True).cpu(), (1, 2, 0)))\n",
    "\n",
    "        # Plot das imagens geradas\n",
    "        for j in range(4):\n",
    "            plt.subplot(1, 5, j + 2)\n",
    "            plt.axis(\"off\")\n",
    "            plt.title(f\"Generated {j+1}\")\n",
    "            generated_image = generated_batch[0][j].to(device)  # Pega a j-ésima imagem gerada do lote\n",
    "            plt.imshow(np.transpose(vutils.make_grid(generated_image, padding=2, normalize=True).cpu(), (1, 2, 0)))\n",
    "\n",
    "        # Mostrar o plot\n",
    "        plt.tight_layout()\n",
    "        plt.show()\n",
    "\n",
    "# Exemplo de chamada da função\n",
    "plot_real_and_generated_images_by_class(real_dataloader, generated_dataloader, device)"
   ]
  },
  {
   "cell_type": "markdown",
   "metadata": {},
   "source": [
    "# Inception Score"
   ]
  },
  {
   "cell_type": "code",
   "execution_count": null,
   "metadata": {},
   "outputs": [],
   "source": [
    "def calculate_inception_scores_for_classes(generated_dataloader, num_classes=num_classes, device=device, splits=10, classes=classes):\n",
    "\n",
    "    results = []\n",
    "\n",
    "    for i in range(1,2): #num_classes):\n",
    "        \n",
    "        filtered_dataloader_gen = filter_dataloader_by_class(generated_dataloader, i)\n",
    "\n",
    "        # Initialize the InceptionScore calculator\n",
    "        inception_score = InceptionScore(feature='logits_unbiased', splits=splits, normalize=True).to(device)\n",
    "\n",
    "        # Calculate IS for generated images\n",
    "        for images, _ in filtered_dataloader_gen:\n",
    "            images = convert_to_uint8(images)\n",
    "            images = images.to(device)\n",
    "            inception_score.update(images)\n",
    "\n",
    "        # Obtain the IS value\n",
    "        is_mean, is_std = inception_score.compute()\n",
    "        results.append((i, is_mean.item(), is_std.item()))\n",
    "        print(f'Inception Score for class {classes[i]}: {is_mean} ± {is_std}')\n",
    "\n",
    "        # Reset the metric for the next class\n",
    "        inception_score.reset()\n",
    "\n",
    "    return results"
   ]
  },
  {
   "cell_type": "code",
   "execution_count": null,
   "metadata": {},
   "outputs": [],
   "source": [
    "def calculate_inception_scores_for_one_class(generated_dataloader, num_classes=num_classes, device=device, splits=10, classes=classes):\n",
    "\n",
    "    results = []\n",
    "        \n",
    "    filtered_dataloader_gen = generated_dataloader\n",
    "\n",
    "    # Initialize the InceptionScore calculator\n",
    "    inception_score = InceptionScore(feature='logits_unbiased', splits=splits, normalize=True).to(device)\n",
    "\n",
    "    # Calculate IS for generated images\n",
    "    for images, _ in filtered_dataloader_gen:\n",
    "        images = convert_to_uint8(images)\n",
    "        images = images.to(device)\n",
    "        inception_score.update(images)\n",
    "\n",
    "    # Obtain the IS value\n",
    "    is_mean, is_std = inception_score.compute()\n",
    "    results.append((is_mean.item(), is_std.item()))\n",
    "    print(f'Inception Score for all classes together: {is_mean} ± {is_std}')\n",
    "\n",
    "    # Reset the metric for the next class\n",
    "    inception_score.reset()\n",
    "\n",
    "    return results"
   ]
  },
  {
   "cell_type": "markdown",
   "metadata": {},
   "source": [
    "# FID"
   ]
  },
  {
   "cell_type": "code",
   "execution_count": null,
   "metadata": {},
   "outputs": [],
   "source": [
    "def calculate_fid_for_classes(generated_dataloader, real_dataloader,num_classes=num_classes,classes=classes):\n",
    "    \n",
    "    # Inicializar o calculador de FID\n",
    "    fid = FrechetInceptionDistance(feature=768)\n",
    "\n",
    "    for i in range(num_classes):\n",
    "        filtered_dataloader_gen = filter_dataloader_by_class(generated_dataloader, i)\n",
    "        filtered_dataloader_real = filter_dataloader_by_class(real_dataloader, i)\n",
    "\n",
    "        # Calcular FID para imagens reais\n",
    "        for images, _ in filtered_dataloader_real:\n",
    "            images = convert_to_uint8(images)\n",
    "            fid.update(images, real=True)\n",
    "\n",
    "        # Calcular FID para imagens geradas\n",
    "        for images, _ in filtered_dataloader_gen:\n",
    "            images = convert_to_uint8(images)\n",
    "            fid.update(images, real=False)\n",
    "\n",
    "        # Obter o valor do FID\n",
    "        fid_value = fid.compute()\n",
    "        print(f'Frechet Inception Distance for class {classes[i]}: {fid_value}')"
   ]
  },
  {
   "cell_type": "markdown",
   "metadata": {},
   "source": [
    "# SSIM"
   ]
  },
  {
   "cell_type": "code",
   "execution_count": null,
   "metadata": {},
   "outputs": [],
   "source": [
    "def calculate_ssim_for_class(generated_dataloader, real_dataloader, num_classes=num_classes, classes=classes):\n",
    "\n",
    "    ssim_scores = []\n",
    "\n",
    "    for class_idx in range(num_classes):\n",
    "        torch.cuda.empty_cache()\n",
    "\n",
    "        filtered_dataloader_gen = filter_dataloader_by_class(generated_dataloader, class_idx)\n",
    "        filtered_dataloader_real = filter_dataloader_by_class(real_dataloader, class_idx)\n",
    "\n",
    "        for batch_real, _ in filtered_dataloader_real:\n",
    "            for batch_gen, _ in filtered_dataloader_gen:\n",
    "                for img_real, img_gen in zip(batch_real, batch_gen):\n",
    "                    img_real = convert_to_uint8(img_real).numpy()\n",
    "                    img_gen = convert_to_uint8(img_gen).numpy()\n",
    "                    ssim_score = ssim(img_real, img_gen, data_range=(img_gen.max() - img_gen.min()), win_size=3)\n",
    "                    ssim_scores.append(ssim_score)\n",
    "\n",
    "        mean_ssim = np.mean(ssim_scores)\n",
    "        std_ssim = np.std(ssim_scores)\n",
    "\n",
    "        print(f' Structural Similarity for class {classes[class_idx]}: {mean_ssim} ± {std_ssim}')"
   ]
  },
  {
   "cell_type": "markdown",
   "metadata": {},
   "source": [
    "# Evaluation"
   ]
  },
  {
   "cell_type": "code",
   "execution_count": null,
   "metadata": {},
   "outputs": [],
   "source": [
    "calculate_inception_scores_for_one_class(generated_dataloader)"
   ]
  },
  {
   "cell_type": "code",
   "execution_count": null,
   "metadata": {},
   "outputs": [],
   "source": [
    "calculate_inception_scores_for_classes(generated_dataloader)"
   ]
  },
  {
   "cell_type": "code",
   "execution_count": null,
   "metadata": {},
   "outputs": [],
   "source": [
    "calculate_fid_for_classes(generated_dataloader, real_dataloader)"
   ]
  },
  {
   "cell_type": "code",
   "execution_count": null,
   "metadata": {},
   "outputs": [],
   "source": [
    "calculate_ssim_for_class(generated_dataloader, real_dataloader,num_classes=num_classes,classes=classes)"
   ]
  }
 ],
 "metadata": {
  "kernelspec": {
   "display_name": "Python 3",
   "language": "python",
   "name": "python3"
  },
  "language_info": {
   "codemirror_mode": {
    "name": "ipython",
    "version": 3
   },
   "file_extension": ".py",
   "mimetype": "text/x-python",
   "name": "python",
   "nbconvert_exporter": "python",
   "pygments_lexer": "ipython3",
   "version": "3.10.13"
  }
 },
 "nbformat": 4,
 "nbformat_minor": 2
}
